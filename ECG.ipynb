{
 "cells": [
  {
   "cell_type": "code",
   "execution_count": 1,
   "metadata": {},
   "outputs": [],
   "source": [
    "import wfdb\n",
    "import DataProcess\n",
    "from cnn import net\n",
    "import numpy as np\n",
    "import torch.utils.data as Data\n",
    "import torch"
   ]
  },
  {
   "cell_type": "code",
   "execution_count": 2,
   "metadata": {},
   "outputs": [],
   "source": [
    "# DataProcess.fetch_data()\n",
    "# DataProcess.process_data()"
   ]
  },
  {
   "cell_type": "code",
   "execution_count": 2,
   "metadata": {},
   "outputs": [
    {
     "output_type": "stream",
     "name": "stderr",
     "text": "100%|██████████| 44/44 [00:48<00:00,  1.11s/it, acc=0.767, loss=0.819]\n"
    }
   ],
   "source": [
    "torch.manual_seed(1)\n",
    "model = net()\n",
    "optimizer = torch.optim.Adam(model.parameters(), lr=3e-4)\n",
    "\n",
    "data=np.load('./data.npz')\n",
    "l = data['X'].shape[0]\n",
    "split = 0.9\n",
    "l_train = int(l*split)\n",
    "X_train = torch.tensor(data['X'][0:l_train],dtype = torch.float).permute([0,2,1])\n",
    "Y_train = torch.tensor(data['Y'][0:l_train],dtype = torch.long)\n",
    "\n",
    "torch_dataset = Data.TensorDataset(X_train, Y_train)\n",
    "loader = Data.DataLoader(\n",
    "    dataset=torch_dataset,\n",
    "    batch_size=100,\n",
    "    shuffle=True,  # 每次训练打乱数据， 默认为False\n",
    "    num_workers=2,  # 使用多进行程读取数据， 默认0，为不使用多进程\n",
    ")\n",
    "for i in range(epoch):\n",
    "    model.train_on_dataset(loader, optimizer)"
   ]
  },
  {
   "cell_type": "code",
   "execution_count": null,
   "metadata": {},
   "outputs": [],
   "source": []
  }
 ],
 "metadata": {
  "kernelspec": {
   "display_name": "Python 3.7.6 64-bit ('torch': conda)",
   "language": "python",
   "name": "python37664bittorchconda7dc888858f56439ba14a5becf4141368"
  },
  "language_info": {
   "codemirror_mode": {
    "name": "ipython",
    "version": 3
   },
   "file_extension": ".py",
   "mimetype": "text/x-python",
   "name": "python",
   "nbconvert_exporter": "python",
   "pygments_lexer": "ipython3",
   "version": "3.7.6-final"
  }
 },
 "nbformat": 4,
 "nbformat_minor": 2
}