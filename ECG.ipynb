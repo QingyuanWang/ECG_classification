{
 "cells": [
  {
   "cell_type": "code",
   "execution_count": 1,
   "metadata": {},
   "outputs": [],
   "source": [
    "import wfdb\n",
    "import DataProcess\n",
    "from cnn import net\n",
    "import numpy as np\n",
    "import torch.utils.data as Data\n",
    "import torch"
   ]
  },
  {
   "cell_type": "code",
   "execution_count": 2,
   "metadata": {},
   "outputs": [
    {
     "output_type": "stream",
     "name": "stdout",
     "text": "Processing data...\nProcessing 100.dat\nlen: 2274\nProcessing 101.dat\nlen: 1874\nProcessing 102.dat\nlen: 2192\nProcessing 103.dat\nlen: 2091\nProcessing 104.dat\nlen: 2311\nProcessing 105.dat\nlen: 2691\nProcessing 106.dat\nlen: 2098\nProcessing 107.dat\nlen: 2140\nProcessing 108.dat\nlen: 1824\nProcessing 109.dat\nlen: 2535\nProcessing 111.dat\nlen: 2133\nProcessing 112.dat\nlen: 2550\nProcessing 113.dat\nlen: 1796\nProcessing 114.dat\nlen: 1890\nProcessing 115.dat\nlen: 1962\nProcessing 116.dat\nlen: 2421\nProcessing 117.dat\nlen: 1539\nProcessing 118.dat\nlen: 2301\nProcessing 119.dat\nlen: 2094\nProcessing 121.dat\nlen: 1876\nProcessing 122.dat\nlen: 2479\nProcessing 123.dat\nlen: 1519\nProcessing 124.dat\nlen: 1634\nProcessing 200.dat\nlen: 2792\nProcessing 201.dat\nlen: 2039\nProcessing 202.dat\nlen: 2146\nProcessing 203.dat\nlen: 3108\nProcessing 205.dat\nlen: 2672\nProcessing 207.dat\nlen: 2385\nProcessing 208.dat\nlen: 3040\nProcessing 209.dat\nlen: 3052\nProcessing 210.dat\nlen: 2685\nProcessing 212.dat\nlen: 2763\nProcessing 213.dat\nlen: 3294\nProcessing 214.dat\nlen: 2297\nProcessing 215.dat\nlen: 3400\nProcessing 217.dat\nlen: 2280\nProcessing 219.dat\nlen: 2312\nProcessing 220.dat\nlen: 2069\nProcessing 221.dat\nlen: 2462\nProcessing 222.dat\nlen: 2634\nProcessing 223.dat\nlen: 2643\nProcessing 228.dat\nlen: 2141\nProcessing 230.dat\nlen: 2466\nProcessing 231.dat\nlen: 2011\nProcessing 232.dat\nlen: 1816\nProcessing 233.dat\nlen: 3152\nProcessing 234.dat\nlen: 2764\n"
    }
   ],
   "source": [
    "# DataProcess.fetch_data()\n",
    "DataProcess.process_data()"
   ]
  },
  {
   "cell_type": "code",
   "execution_count": 2,
   "metadata": {},
   "outputs": [
    {
     "output_type": "stream",
     "name": "stderr",
     "text": "0%|          | 0/5 [00:00<?, ?it/s]\n0it [00:00, ?it/s]\u001b[Aloss: 2.839891195297241acc: 0.001\n 20%|██        | 1/5 [00:10<00:40, 10.19s/it]\n1it [00:10, 10.10s/it]\u001b[Aloss: 2.7824954986572266acc: 0.727\n 40%|████      | 2/5 [00:19<00:29,  9.81s/it]\n2it [00:19,  9.74s/it]\u001b[Aloss: 2.6630852222442627acc: 0.735\n 60%|██████    | 3/5 [00:28<00:19,  9.56s/it]\n3it [00:28,  9.52s/it]\u001b[Aloss: 2.392016887664795acc: 0.731\n 80%|████████  | 4/5 [00:37<00:09,  9.37s/it]\n4it [00:36,  9.34s/it]\u001b[Aloss: 1.835727334022522acc: 0.7521865889212828\n100%|██████████| 5/5 [00:40<00:00,  7.51s/it]\n5it [00:40,  8.05s/it]\n100%|██████████| 5/5 [00:40<00:00,  8.07s/it]\n"
    }
   ],
   "source": [
    "torch.manual_seed(1)\n",
    "model = net()\n",
    "optimizer = torch.optim.Adam(model.parameters(), lr=3e-4)\n",
    "\n",
    "data=np.load('./data.npz')\n",
    "l = data['X'].shape[0]\n",
    "split = 0.9\n",
    "l_train = int(l*split)\n",
    "X_train = torch.tensor(data['X'][0:l_train],dtype = torch.float).permute([0,2,1])\n",
    "Y_train = torch.tensor(data['Y'][0:l_train],dtype = torch.long)\n",
    "\n",
    "torch_dataset = Data.TensorDataset(X_train, Y_train)\n",
    "loader = Data.DataLoader(\n",
    "    dataset=torch_dataset,\n",
    "    batch_size=100,\n",
    "    shuffle=True,  # 每次训练打乱数据， 默认为False\n",
    "    num_workers=2,  # 使用多进行程读取数据， 默认0，为不使用多进程\n",
    ")\n",
    "model.train_on_dataset(loader, optimizer)"
   ]
  },
  {
   "cell_type": "code",
   "execution_count": null,
   "metadata": {},
   "outputs": [],
   "source": []
  }
 ],
 "metadata": {
  "kernelspec": {
   "display_name": "Python 3.7.6 64-bit ('torch': conda)",
   "language": "python",
   "name": "python37664bittorchconda7dc888858f56439ba14a5becf4141368"
  },
  "language_info": {
   "codemirror_mode": {
    "name": "ipython",
    "version": 3
   },
   "file_extension": ".py",
   "mimetype": "text/x-python",
   "name": "python",
   "nbconvert_exporter": "python",
   "pygments_lexer": "ipython3",
   "version": "3.7.6-final"
  }
 },
 "nbformat": 4,
 "nbformat_minor": 2
}